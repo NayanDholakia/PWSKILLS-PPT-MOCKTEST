{
  "nbformat": 4,
  "nbformat_minor": 0,
  "metadata": {
    "colab": {
      "provenance": []
    },
    "kernelspec": {
      "name": "python3",
      "display_name": "Python 3"
    },
    "language_info": {
      "name": "python"
    }
  },
  "cells": [
    {
      "cell_type": "code",
      "execution_count": 2,
      "metadata": {
        "colab": {
          "base_uri": "https://localhost:8080/"
        },
        "id": "EqxyAt7fytWV",
        "outputId": "a76bb5ec-8a22-433e-e052-46ad958460ae"
      },
      "outputs": [
        {
          "output_type": "stream",
          "name": "stdout",
          "text": [
            "2\n"
          ]
        }
      ],
      "source": [
        "def firstUniqChar(s):\n",
        "    char_count = {}\n",
        "\n",
        "    # Count the occurrences of each character\n",
        "    for char in s:\n",
        "        char_count[char] = char_count.get(char, 0) + 1\n",
        "\n",
        "    # Find the first non-repeating character\n",
        "    for i, char in enumerate(s):\n",
        "        if char_count[char] == 1:\n",
        "            return i\n",
        "\n",
        "    return -1\n",
        "\n",
        "# Example usage:\n",
        "s = \"loveleetcode\"\n",
        "print(firstUniqChar(s))  # Output: 0\n"
      ]
    },
    {
      "cell_type": "code",
      "source": [
        "s = \"aabb\"\n",
        "print(firstUniqChar(s))"
      ],
      "metadata": {
        "colab": {
          "base_uri": "https://localhost:8080/"
        },
        "id": "dW9ZlD5yy2ac",
        "outputId": "ce38f04b-01e5-4f31-880f-361a86e95b25"
      },
      "execution_count": 3,
      "outputs": [
        {
          "output_type": "stream",
          "name": "stdout",
          "text": [
            "-1\n"
          ]
        }
      ]
    }
  ]
}